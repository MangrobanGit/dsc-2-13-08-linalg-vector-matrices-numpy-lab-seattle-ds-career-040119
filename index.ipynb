{
 "cells": [
  {
   "cell_type": "markdown",
   "metadata": {},
   "source": [
    "# Vectors and Matrices in Numpy - Lab\n",
    "\n",
    "## Introduction\n",
    "\n",
    "This lab will ask you to perform some simple matrix creation and manipulation exercises based on what we have covered so far in this section. The key takeaway here for you is to be able to understand how to using indexing with matrices and vectors while applying some basic operations.\n",
    "\n",
    "## Objectives\n",
    "You will be able to:\n",
    "* Define vectors and matrices in NumPy\n",
    "* Check the shape of vectors and matrices\n",
    "* Access and manipulate individual scalar components of a matrix. "
   ]
  },
  {
   "cell_type": "markdown",
   "metadata": {},
   "source": [
    "## 1. Define two arrays A (4x2) and B (2x3) \n",
    "```\n",
    "A = 1402, 191 \n",
    "    1371, 821 \n",
    "    949, 1437\n",
    "    147, 1448\n",
    "    \n",
    "B = 1, 2, 3\n",
    "    4, 5, 6\n",
    "    ```"
   ]
  },
  {
   "cell_type": "code",
   "execution_count": 1,
   "metadata": {},
   "outputs": [],
   "source": [
    "import numpy as np"
   ]
  },
  {
   "cell_type": "code",
   "execution_count": 2,
   "metadata": {},
   "outputs": [],
   "source": [
    "# Code Here\n",
    "A = np.array([[1402, 191],[1371, 821],[949, 1437],[147, 1448]])"
   ]
  },
  {
   "cell_type": "code",
   "execution_count": 3,
   "metadata": {},
   "outputs": [],
   "source": [
    "B = np.array([[1,2,3],[4,5,6]])"
   ]
  },
  {
   "cell_type": "markdown",
   "metadata": {},
   "source": [
    "## 2. Print the dimensions of A and B "
   ]
  },
  {
   "cell_type": "code",
   "execution_count": 4,
   "metadata": {},
   "outputs": [
    {
     "ename": "SyntaxError",
     "evalue": "invalid syntax (<ipython-input-4-0c42b7b41985>, line 1)",
     "output_type": "error",
     "traceback": [
      "\u001b[0;36m  File \u001b[0;32m\"<ipython-input-4-0c42b7b41985>\"\u001b[0;36m, line \u001b[0;32m1\u001b[0m\n\u001b[0;31m    |# Code Here\u001b[0m\n\u001b[0m    ^\u001b[0m\n\u001b[0;31mSyntaxError\u001b[0m\u001b[0;31m:\u001b[0m invalid syntax\n"
     ]
    }
   ],
   "source": [
    "|# Code Here\n",
    "print(\"Shape of A: \" + str(A.shape))"
   ]
  },
  {
   "cell_type": "code",
   "execution_count": null,
   "metadata": {},
   "outputs": [],
   "source": [
    "# Code Here\n",
    "print(\"Shape of B: \" + str(B.shape))"
   ]
  },
  {
   "cell_type": "markdown",
   "metadata": {},
   "source": [
    "## 3. Print some of the elements from A at following locations\n",
    "* first row and first column\n",
    "* first row and second column\n",
    "* third row and second column\n",
    "* fourth row and first column"
   ]
  },
  {
   "cell_type": "code",
   "execution_count": 5,
   "metadata": {},
   "outputs": [
    {
     "name": "stdout",
     "output_type": "stream",
     "text": [
      "1402\n",
      "191\n",
      "1437\n",
      "147\n"
     ]
    }
   ],
   "source": [
    "# Code Here\n",
    "print(A[0,0])\n",
    "print(A[0,1])\n",
    "print(A[2,1])\n",
    "print(A[3,0])\n"
   ]
  },
  {
   "cell_type": "markdown",
   "metadata": {},
   "source": [
    "## 4. Write a routine to populate matrix with random data\n",
    "* Create an 3x3 numpy array with all zeros (use `np.zeros()`)\n",
    "* Access each location i,j of this matrix and fill in random values between the range 1 and 10. "
   ]
  },
  {
   "cell_type": "code",
   "execution_count": 31,
   "metadata": {},
   "outputs": [
    {
     "data": {
      "text/plain": [
       "2"
      ]
     },
     "execution_count": 31,
     "metadata": {},
     "output_type": "execute_result"
    }
   ],
   "source": [
    "z = np.zeros((2,2))\n",
    "\n",
    "len(z)"
   ]
  },
  {
   "cell_type": "code",
   "execution_count": 29,
   "metadata": {},
   "outputs": [
    {
     "data": {
      "text/plain": [
       "array([[8., 6., 2.],\n",
       "       [3., 5., 9.],\n",
       "       [7., 5., 9.]])"
      ]
     },
     "execution_count": 29,
     "metadata": {},
     "output_type": "execute_result"
    }
   ],
   "source": [
    "import numpy as np\n",
    "np.random.seed(1111)\n",
    "\n",
    "# Code Here (due to random data , your output might be different)\n",
    "z_mat = np.zeros((3,3))\n",
    "    \n",
    "for r in range(3):\n",
    "    for c in range(3):\n",
    "        z_mat[r,c] = np.random.randint(1,10)\n",
    "\n",
    "z_mat "
   ]
  },
  {
   "cell_type": "markdown",
   "metadata": {},
   "source": [
    "## 5. Turn above routine into a function.\n",
    "* Create two 4x4 zero valued matrices and fill with random data using the function\n",
    "* Add the matrices together in numpy \n",
    "* Show the results"
   ]
  },
  {
   "cell_type": "code",
   "execution_count": 37,
   "metadata": {},
   "outputs": [
    {
     "name": "stdout",
     "output_type": "stream",
     "text": [
      "[[6. 3. 9. 4.]\n",
      " [8. 4. 8. 1.]\n",
      " [3. 3. 6. 4.]\n",
      " [1. 8. 1. 8.]]\n",
      "[[7. 3. 1. 2.]\n",
      " [7. 6. 1. 7.]\n",
      " [9. 9. 1. 7.]\n",
      " [4. 1. 9. 3.]]\n",
      "[[13.  6. 10.  6.]\n",
      " [15. 10.  9.  8.]\n",
      " [12. 12.  7. 11.]\n",
      " [ 5.  9. 10. 11.]]\n"
     ]
    }
   ],
   "source": [
    "# Code Here (due to random data , your output might be different)\n",
    "z_mat_a = np.zeros((4,4))\n",
    "z_mat_b = np.zeros((4,4))\n",
    "\n",
    "def rando_matic(A,B):\n",
    "    \"\"\"\n",
    "    Takes two nxn matrices, fills with random data and then returns\n",
    "    the addition of the two\n",
    "    \n",
    "    Parameters\n",
    "    ----------\n",
    "    A: first matrix\n",
    "    B: second matrix\n",
    "    \n",
    "    Returns\n",
    "    -------\n",
    "    result: matrix of same dimension as A and B\n",
    "    \"\"\"\n",
    "    \n",
    "    # Fill A and B with random ints\n",
    "    # Assumes A and B have same square dimensions!\n",
    "    for r in range(len(A)):\n",
    "        for c in range(len(B)):\n",
    "            A[r,c] = np.random.randint(1,10)\n",
    "            B[r,c] = np.random.randint(1,10)\n",
    "    \n",
    "    # Add A and B\n",
    "    result = A + B\n",
    "    \n",
    "    return A, B, result\n",
    "\n",
    "D, E, rez = rando_matic(z_mat_a, z_mat_b)\n",
    "\n",
    "print(D)\n",
    "print(E)\n",
    "print(rez)"
   ]
  },
  {
   "cell_type": "markdown",
   "metadata": {},
   "source": [
    "## Summary \n",
    "\n",
    "In this lab, we saw how to create and manipulate vectors and matrices in numpy. We shall now move forward to learning more complex operations including dot products and inverses. "
   ]
  },
  {
   "cell_type": "code",
   "execution_count": null,
   "metadata": {},
   "outputs": [],
   "source": []
  },
  {
   "cell_type": "code",
   "execution_count": null,
   "metadata": {},
   "outputs": [],
   "source": []
  }
 ],
 "metadata": {
  "kernelspec": {
   "display_name": "Python 3",
   "language": "python",
   "name": "python3"
  },
  "language_info": {
   "codemirror_mode": {
    "name": "ipython",
    "version": 3
   },
   "file_extension": ".py",
   "mimetype": "text/x-python",
   "name": "python",
   "nbconvert_exporter": "python",
   "pygments_lexer": "ipython3",
   "version": "3.6.6"
  }
 },
 "nbformat": 4,
 "nbformat_minor": 2
}
